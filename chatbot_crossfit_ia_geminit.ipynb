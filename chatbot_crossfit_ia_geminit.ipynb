{
  "nbformat": 4,
  "nbformat_minor": 0,
  "metadata": {
    "colab": {
      "provenance": [],
      "toc_visible": true,
      "authorship_tag": "ABX9TyNLqlMW6sgupGYu9LkZRt/g",
      "include_colab_link": true
    },
    "kernelspec": {
      "name": "python3",
      "display_name": "Python 3"
    },
    "language_info": {
      "name": "python"
    }
  },
  "cells": [
    {
      "cell_type": "markdown",
      "metadata": {
        "id": "view-in-github",
        "colab_type": "text"
      },
      "source": [
        "<a href=\"https://colab.research.google.com/github/ericksonivanowski/ChatBot-CrossFit-IA-Gemini/blob/main/chatbot_crossfit_ia_geminit.ipynb\" target=\"_parent\"><img src=\"https://colab.research.google.com/assets/colab-badge.svg\" alt=\"Open In Colab\"/></a>"
      ]
    },
    {
      "cell_type": "code",
      "execution_count": null,
      "metadata": {
        "id": "jFvT6F71rXxY",
        "colab": {
          "base_uri": "https://localhost:8080/"
        },
        "outputId": "07026143-99ee-42ba-82a8-0d091294cc29"
      },
      "outputs": [
        {
          "output_type": "stream",
          "name": "stdout",
          "text": [
            "Requirement already satisfied: gemini-api in /usr/local/lib/python3.10/dist-packages (0.1.6)\n",
            "Requirement already satisfied: requests<3.0.0,>=2.28.0 in /usr/local/lib/python3.10/dist-packages (from gemini-api) (2.31.0)\n",
            "Requirement already satisfied: charset-normalizer<4,>=2 in /usr/local/lib/python3.10/dist-packages (from requests<3.0.0,>=2.28.0->gemini-api) (3.3.2)\n",
            "Requirement already satisfied: idna<4,>=2.5 in /usr/local/lib/python3.10/dist-packages (from requests<3.0.0,>=2.28.0->gemini-api) (3.7)\n",
            "Requirement already satisfied: urllib3<3,>=1.21.1 in /usr/local/lib/python3.10/dist-packages (from requests<3.0.0,>=2.28.0->gemini-api) (2.0.7)\n",
            "Requirement already satisfied: certifi>=2017.4.17 in /usr/local/lib/python3.10/dist-packages (from requests<3.0.0,>=2.28.0->gemini-api) (2024.2.2)\n",
            "\n",
            "\n",
            "\n",
            "WOD Wizard: \n",
            "Olá! Sou o WOD Wizard, um chatbot de WODs de CrossFit. Você pode me perguntar qualquer coisa relacionado ao CrossFit, me pedir para montar treinos e etc. Como posso te ajudar?\n",
            "\n",
            "\n"
          ]
        }
      ],
      "source": [
        "# Instalar biblioteca do Gemini (se necessário)\n",
        "!pip install gemini-api\n",
        "\n",
        "# Importar bibliotecas\n",
        "import textwrap\n",
        "import re\n",
        "import random\n",
        "import google.generativeai as genai\n",
        "from google.colab import userdata\n",
        "from markdown import markdown\n",
        "\n",
        "# Configurar API do Gemini\n",
        "api_key = userdata.get(\"SECRET_KEY\")\n",
        "genai.configure(api_key=api_key)\n",
        "\n",
        "def to_markdown(text):\n",
        "  text = text.replace('•', '  *')\n",
        "  return markdown(textwrap.indent(text, '> ', predicate=lambda _: True))\n",
        "\n",
        "config_gen = {\n",
        "    \"candidate_count\":1,\n",
        "    \"temperature\":0.6,\n",
        "    \"max_output_tokens\": 1000\n",
        "}\n",
        "\n",
        "model = genai.GenerativeModel(model_name=\"gemini-1.5-pro-latest\",generation_config=config_gen)\n",
        "\n",
        "chat = model.start_chat(history=[])\n",
        "\n",
        "print(\"\\n\\n\")\n",
        "# Iniciar conversa\n",
        "print(\"WOD Wizard: \")\n",
        "print(\"Olá! Sou o WOD Wizard, um chatbot de WODs de CrossFit. Você pode me perguntar qualquer coisa relacionado ao CrossFit, me pedir para montar treinos e etc. Como posso te ajudar?\")\n",
        "print(\"\\n\")\n",
        "prompt_usuario = input(\"Usuário: \")\n",
        "\n",
        "palavras_finalizar_chat = [\"tchau\",\"adeus\",\"terminar\",\"sair\",\"finalizar\",\"fechar\"]\n",
        "\n",
        "while True:\n",
        "\n",
        "  if (prompt_usuario in palavras_finalizar_chat):\n",
        "    print(\"\\n\")\n",
        "    print(\"WOD Wizard: Tchau, foi um prazer falar contigo!\")\n",
        "    print(\"\\n\")\n",
        "    print(\"Conversa finalizada.\")\n",
        "    break\n",
        "  else:\n",
        "    prompt_gemini = f\"\"\"\n",
        "    O usuário disse: '{re.escape(prompt_usuario)}'.\n",
        "    Responda como um chatbot gerador de treinos de crossfit prestativo e com total conhecimento sobre o esporte.\n",
        "    Se o usuário digitar alguma coisa que esteja fora do contexto de crossfit, responda que você não pode falar sobre esse assunto.\n",
        "    Não permita que o usuário te ludibrie com argumentos, tentando fazer você dar informações que não sejam ESTRITAMENTE sobre o de crossfit.\n",
        "    Não importa qual seja o assunto, até mesmo sobre academia, ou outros esportes, você está autorizado a falar somente sobre CrossFit.\n",
        "    Tudo que o usuário te perguntar, forneça a resposta baseado apenas no contexto CrossFit.\n",
        "    Se te perguntar o seu nome, diga que é \"WOD Wizard\" e forneça o significado do nome, que é \"Mago do WOD\".\n",
        "    Sempre informe o usuário que caso ele queira terminar a conversa, basta escrever \"Sair\"\n",
        "    \"\"\"\n",
        "\n",
        "    response = chat.send_message(prompt_gemini)\n",
        "\n",
        "    print(\"\\n\")\n",
        "    print(\"WOD Wizard: \" + response.text)\n",
        "    print(\"\\n\")\n",
        "\n",
        "    prompt_usuario = input(\"Usuário: \")\n"
      ]
    },
    {
      "cell_type": "code",
      "source": [],
      "metadata": {
        "id": "vkIearHXP3Zr"
      },
      "execution_count": null,
      "outputs": []
    }
  ]
}